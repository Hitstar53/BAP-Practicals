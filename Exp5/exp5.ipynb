{
 "cells": [
  {
   "cell_type": "markdown",
   "metadata": {},
   "source": [
    "<style type=\"text/css\">\n",
    ".tf  {border-collapse:collapse;border-spacing:0;width:100%}\n",
    ".tf td{border-color:black;border-style:solid;border-width:1px;font-family:Arial, sans-serif;font-size:16px;\n",
    "  overflow:hidden;padding:10px 10px;word-break:normal;}\n",
    ".tf th{border-color:black;border-style:solid;border-width:1px;font-family:Arial, sans-serif;font-size:16px;\n",
    "  font-weight:normal;overflow:hidden;padding:10px 10px;word-break:normal;}\n",
    ".tf .tg-0pky{border-color:inherit;text-align:left;vertical-align:top}\n",
    ".col1 { width: 20%;}\n",
    ".col2 { width: 80%;}\n",
    "</style>\n",
    "<table class=\"tf\">\n",
    "<thead>\n",
    "  <tr>\n",
    "    <th class=\"tg-0pky col1\">Name</th>\n",
    "    <th class=\"tg-0pky col2\">Hatim Sawai</th>\n",
    "  </tr>\n",
    "</thead>\n",
    "<tbody>\n",
    "  <tr>\n",
    "    <td class=\"tg-0pky col1\">UID No.</td>\n",
    "    <td class=\"tg-0pky col2\">2021300108</td>\n",
    "  </tr>\n",
    "</tbody>\n",
    "</table>"
   ]
  },
  {
   "cell_type": "markdown",
   "metadata": {},
   "source": [
    "## <p style=\"text-align:center;font-weight:500;\">Experiment 5</p>\n",
    "<style type=\"text/css\">\n",
    ".tg  {border-collapse:collapse;border-spacing:0;width:100%}\n",
    ".tg td{border-color:black;border-style:solid;border-width:1px;font-family:Arial, sans-serif;font-size:16px;\n",
    "  overflow:hidden;padding:10px 10px;word-break:normal;}\n",
    ".tg th{border-color:black;border-style:solid;border-width:1px;font-family:Arial, sans-serif;font-size:16px;\n",
    "  font-weight:normal;overflow:hidden;padding:10px 10px;word-break:normal;}\n",
    ".tg .tg-0pky{border-color:inherit;text-align:left;vertical-align:top;}\n",
    ".col1 { width: 20%;}\n",
    ".col2 { width: 80%;}\n",
    "</style>\n",
    "<table class=\"tg\">\n",
    "<thead>\n",
    "  <tr>\n",
    "    <th class=\"tg-0pky col1\">HONOR PLEDGE</th>\n",
    "    <th class=\"tg-0pky col2\">\n",
    "        <img src=\"../docs/pledge.jpg\" alt=\"honor pledge\">\n",
    "    </th>\n",
    "  </tr>\n",
    "</thead>\n",
    "<tbody>\n",
    "  <tr>\n",
    "    <td class=\"tg-0pky col1\">PROBLEM STATEMENT</td>\n",
    "    <td class=\"tg-0pky col2\" style=\"font-size:16px;\">\n",
    "      <strong>Data Quality Assurance</strong>\n",
    "      <br>\n",
    "      1. Pick a time-series dataset from either of the websites based on batch majority\n",
    "      <br>\n",
    "      2. Assess the quality of this dataset on all the dimensions of quality as identified by you.\n",
    "      <br>\n",
    "      3. Identify and handle inconsistent or erroneous data\n",
    "      <br>\n",
    "      4. Calculate data quality metrics for each data quality dimension for your dataset\n",
    "    </td>\n",
    "  </tr>\n",
    "  <tr>\n",
    "    <td class=\"tg-0pky col1\">THEORY</td>\n",
    "    <td class=\"tg-0pky col2\">\n",
    "      <strong>Q. What are the 6 core dimensions of data quality? Elaborate on each with an example. Is there any other dimension that you can think of apart from these 6 for measuring quality?</strong>\n",
    "      <br>\n",
    "      Ans. The six core dimensions of data quality are:\n",
    "      <br>\n",
    "      1. <strong>Accuracy</strong>: It is the degree to which data correctly represents the real-world scenario. For example, a dataset containing the age of people should not contain any negative values.\n",
    "      <br>\n",
    "      2. <strong>Completeness</strong>: It is the degree to which all the required data is present. For example, a dataset containing the age of people should not contain any missing values.\n",
    "      <br>\n",
    "      3. <strong>Consistency</strong>: It is the degree to which data is consistent within itself. For example, a dataset containing the age of people should not contain any inconsistent values like a person with age 200 years.\n",
    "      <br>\n",
    "      4. <strong>Timeliness</strong>: It is the degree to which data is available within the required time frame. For example, a dataset containing the age of people should not contain any future dates.\n",
    "      <br>\n",
    "      5. <strong>Uniqueness</strong>: It is the degree to which data is unique. For example, a dataset containing the age of people should not contain any duplicate values.\n",
    "      <br>\n",
    "      6. <strong>Validity</strong>: It is the degree to which data conforms to the defined schema. For example, a dataset containing the age of people should not contain any non-numeric values.\n",
    "      <br>\n",
    "      <br>\n",
    "      Apart from these 6 dimensions, another dimension that can be used for measuring quality is <strong>Reliability</strong>. It is the degree to which data is reliable. For example, a dataset containing the age of people should not contain any values that are not reliable.\n",
    "    </td>\n",
    "  </tr>\n",
    "</tbody>\n",
    "</table> "
   ]
  },
  {
   "cell_type": "markdown",
   "metadata": {},
   "source": [
    "### Importing Libraries & Dataset"
   ]
  },
  {
   "cell_type": "code",
   "execution_count": 105,
   "metadata": {},
   "outputs": [
    {
     "data": {
      "text/html": [
       "<div>\n",
       "<style scoped>\n",
       "    .dataframe tbody tr th:only-of-type {\n",
       "        vertical-align: middle;\n",
       "    }\n",
       "\n",
       "    .dataframe tbody tr th {\n",
       "        vertical-align: top;\n",
       "    }\n",
       "\n",
       "    .dataframe thead th {\n",
       "        text-align: right;\n",
       "    }\n",
       "</style>\n",
       "<table border=\"1\" class=\"dataframe\">\n",
       "  <thead>\n",
       "    <tr style=\"text-align: right;\">\n",
       "      <th></th>\n",
       "      <th>airline</th>\n",
       "      <th>flightNumber</th>\n",
       "      <th>origin</th>\n",
       "      <th>destination</th>\n",
       "      <th>daysOfWeek</th>\n",
       "      <th>scheduledDepartureTime</th>\n",
       "      <th>scheduledArrivalTime</th>\n",
       "      <th>timezone</th>\n",
       "      <th>validFrom</th>\n",
       "      <th>validTo</th>\n",
       "      <th>lastUpdated</th>\n",
       "    </tr>\n",
       "  </thead>\n",
       "  <tbody>\n",
       "    <tr>\n",
       "      <th>0</th>\n",
       "      <td>GoAir</td>\n",
       "      <td>425</td>\n",
       "      <td>Delhi</td>\n",
       "      <td>Hyderabad</td>\n",
       "      <td>Sunday,Monday,Tuesday,Wednesday,Thursday,Frida...</td>\n",
       "      <td>05:45</td>\n",
       "      <td>NaN</td>\n",
       "      <td>2019-03-30</td>\n",
       "      <td>2018-10-28</td>\n",
       "      <td>2019-03-30</td>\n",
       "      <td>2023-11-05</td>\n",
       "    </tr>\n",
       "    <tr>\n",
       "      <th>1</th>\n",
       "      <td>GoAir</td>\n",
       "      <td>423</td>\n",
       "      <td>Delhi</td>\n",
       "      <td>Hyderabad</td>\n",
       "      <td>Saturday</td>\n",
       "      <td>07:30</td>\n",
       "      <td>NaN</td>\n",
       "      <td>2018-10-28</td>\n",
       "      <td>2018-10-28</td>\n",
       "      <td>2018-10-28</td>\n",
       "      <td>2023-11-05</td>\n",
       "    </tr>\n",
       "    <tr>\n",
       "      <th>2</th>\n",
       "      <td>GoAir</td>\n",
       "      <td>423</td>\n",
       "      <td>Delhi</td>\n",
       "      <td>Hyderabad</td>\n",
       "      <td>Friday</td>\n",
       "      <td>07:30</td>\n",
       "      <td>NaN</td>\n",
       "      <td>2018-12-01</td>\n",
       "      <td>2018-11-03</td>\n",
       "      <td>2018-12-01</td>\n",
       "      <td>2023-11-05</td>\n",
       "    </tr>\n",
       "    <tr>\n",
       "      <th>3</th>\n",
       "      <td>GoAir</td>\n",
       "      <td>423</td>\n",
       "      <td>Delhi</td>\n",
       "      <td>Hyderabad</td>\n",
       "      <td>Friday</td>\n",
       "      <td>07:30</td>\n",
       "      <td>NaN</td>\n",
       "      <td>2019-03-30</td>\n",
       "      <td>2019-02-02</td>\n",
       "      <td>2019-03-30</td>\n",
       "      <td>2023-11-05</td>\n",
       "    </tr>\n",
       "    <tr>\n",
       "      <th>4</th>\n",
       "      <td>GoAir</td>\n",
       "      <td>423</td>\n",
       "      <td>Delhi</td>\n",
       "      <td>Hyderabad</td>\n",
       "      <td>Sunday,Monday,Tuesday,Wednesday,Thursday,Saturday</td>\n",
       "      <td>07:30</td>\n",
       "      <td>NaN</td>\n",
       "      <td>2018-11-30</td>\n",
       "      <td>2018-10-29</td>\n",
       "      <td>2018-11-30</td>\n",
       "      <td>2023-11-05</td>\n",
       "    </tr>\n",
       "  </tbody>\n",
       "</table>\n",
       "</div>"
      ],
      "text/plain": [
       "  airline flightNumber origin destination  \\\n",
       "0   GoAir          425  Delhi   Hyderabad   \n",
       "1   GoAir          423  Delhi   Hyderabad   \n",
       "2   GoAir          423  Delhi   Hyderabad   \n",
       "3   GoAir          423  Delhi   Hyderabad   \n",
       "4   GoAir          423  Delhi   Hyderabad   \n",
       "\n",
       "                                          daysOfWeek scheduledDepartureTime  \\\n",
       "0  Sunday,Monday,Tuesday,Wednesday,Thursday,Frida...                  05:45   \n",
       "1                                           Saturday                  07:30   \n",
       "2                                             Friday                  07:30   \n",
       "3                                             Friday                  07:30   \n",
       "4  Sunday,Monday,Tuesday,Wednesday,Thursday,Saturday                  07:30   \n",
       "\n",
       "  scheduledArrivalTime    timezone   validFrom     validTo lastUpdated  \n",
       "0                  NaN  2019-03-30  2018-10-28  2019-03-30  2023-11-05  \n",
       "1                  NaN  2018-10-28  2018-10-28  2018-10-28  2023-11-05  \n",
       "2                  NaN  2018-12-01  2018-11-03  2018-12-01  2023-11-05  \n",
       "3                  NaN  2019-03-30  2019-02-02  2019-03-30  2023-11-05  \n",
       "4                  NaN  2018-11-30  2018-10-29  2018-11-30  2023-11-05  "
      ]
     },
     "execution_count": 105,
     "metadata": {},
     "output_type": "execute_result"
    }
   ],
   "source": [
    "import numpy as np\n",
    "import pandas as pd\n",
    "import matplotlib.pyplot as plt\n",
    "from datetime import datetime\n",
    "# read csv file\n",
    "df = pd.read_csv('../Datasets/Flight_Schedule.csv', low_memory=False)\n",
    "df.head()"
   ]
  },
  {
   "cell_type": "markdown",
   "metadata": {},
   "source": [
    "<div style=\"page-break-before: always;\"></div>"
   ]
  },
  {
   "cell_type": "markdown",
   "metadata": {},
   "source": [
    "### 1. Assesing the quality of the dataset"
   ]
  },
  {
   "cell_type": "markdown",
   "metadata": {},
   "source": [
    "**1. Accuracy**\n",
    "- The dataset is a goverment dataset and is expected to be accurate. However, we can check for accuracy by checking if the airlines are correct.  \n",
    " \n",
    "**2. Completeness**  \n",
    "- The dataset has many null/missing values. We can check for completeness by checking the number of missing values. Roughly 25% of the data in some columns is missing.  \n",
    "\n",
    "**3. Consistency**  \n",
    "- The dataset appears to be consistent by the fact that all the time and date values have the same and correct format across all the different datetime columns.  \n",
    "\n",
    "**4. Timeliness**  \n",
    "- The dataset is appearing to be timely as it is from 2018 to 2023, which is within 5 yrs of the current date. The dataset being from the goverment is expected to be timely.   \n",
    "\n",
    "**5. Uniqueness**  \n",
    "- The dataset is mostly containing unique values. However, we can check for uniqueness by checking for duplicate values. There appear to be some duplicate flight numbers with the same info in the dataset. Uniqueness for the full set is there but for some subsets it does not hold.  \n",
    "\n",
    "**6. Validity**  \n",
    "- The dataset is valid as it conforms to the defined schema. However, we can check for validity by checking if the data types are correct and if the data is in the correct format. The data types are correct and the data is in the correct format as can be seen from the data types and the data itself.  "
   ]
  },
  {
   "cell_type": "markdown",
   "metadata": {},
   "source": [
    "<div style=\"page-break-before: always;\"></div>"
   ]
  },
  {
   "cell_type": "markdown",
   "metadata": {},
   "source": [
    "### 2. Identifying and Handling Inconsistent or Erroneous Data"
   ]
  },
  {
   "cell_type": "code",
   "execution_count": 106,
   "metadata": {},
   "outputs": [
    {
     "data": {
      "text/html": [
       "<div>\n",
       "<style scoped>\n",
       "    .dataframe tbody tr th:only-of-type {\n",
       "        vertical-align: middle;\n",
       "    }\n",
       "\n",
       "    .dataframe tbody tr th {\n",
       "        vertical-align: top;\n",
       "    }\n",
       "\n",
       "    .dataframe thead th {\n",
       "        text-align: right;\n",
       "    }\n",
       "</style>\n",
       "<table border=\"1\" class=\"dataframe\">\n",
       "  <thead>\n",
       "    <tr style=\"text-align: right;\">\n",
       "      <th></th>\n",
       "      <th>airline</th>\n",
       "      <th>flightNumber</th>\n",
       "      <th>origin</th>\n",
       "      <th>destination</th>\n",
       "      <th>daysOfWeek</th>\n",
       "      <th>scheduledDepartureTime</th>\n",
       "      <th>scheduledArrivalTime</th>\n",
       "      <th>validFrom</th>\n",
       "      <th>validTo</th>\n",
       "      <th>lastUpdated</th>\n",
       "    </tr>\n",
       "  </thead>\n",
       "  <tbody>\n",
       "    <tr>\n",
       "      <th>0</th>\n",
       "      <td>GoAir</td>\n",
       "      <td>425</td>\n",
       "      <td>Delhi</td>\n",
       "      <td>Hyderabad</td>\n",
       "      <td>Sunday,Monday,Tuesday,Wednesday,Thursday,Frida...</td>\n",
       "      <td>05:45</td>\n",
       "      <td>NaN</td>\n",
       "      <td>2018-10-28</td>\n",
       "      <td>2019-03-30</td>\n",
       "      <td>2023-11-05</td>\n",
       "    </tr>\n",
       "    <tr>\n",
       "      <th>1</th>\n",
       "      <td>GoAir</td>\n",
       "      <td>423</td>\n",
       "      <td>Delhi</td>\n",
       "      <td>Hyderabad</td>\n",
       "      <td>Saturday</td>\n",
       "      <td>07:30</td>\n",
       "      <td>NaN</td>\n",
       "      <td>2018-10-28</td>\n",
       "      <td>2018-10-28</td>\n",
       "      <td>2023-11-05</td>\n",
       "    </tr>\n",
       "    <tr>\n",
       "      <th>2</th>\n",
       "      <td>GoAir</td>\n",
       "      <td>423</td>\n",
       "      <td>Delhi</td>\n",
       "      <td>Hyderabad</td>\n",
       "      <td>Friday</td>\n",
       "      <td>07:30</td>\n",
       "      <td>NaN</td>\n",
       "      <td>2018-11-03</td>\n",
       "      <td>2018-12-01</td>\n",
       "      <td>2023-11-05</td>\n",
       "    </tr>\n",
       "    <tr>\n",
       "      <th>3</th>\n",
       "      <td>GoAir</td>\n",
       "      <td>423</td>\n",
       "      <td>Delhi</td>\n",
       "      <td>Hyderabad</td>\n",
       "      <td>Friday</td>\n",
       "      <td>07:30</td>\n",
       "      <td>NaN</td>\n",
       "      <td>2019-02-02</td>\n",
       "      <td>2019-03-30</td>\n",
       "      <td>2023-11-05</td>\n",
       "    </tr>\n",
       "    <tr>\n",
       "      <th>4</th>\n",
       "      <td>GoAir</td>\n",
       "      <td>423</td>\n",
       "      <td>Delhi</td>\n",
       "      <td>Hyderabad</td>\n",
       "      <td>Sunday,Monday,Tuesday,Wednesday,Thursday,Saturday</td>\n",
       "      <td>07:30</td>\n",
       "      <td>NaN</td>\n",
       "      <td>2018-10-29</td>\n",
       "      <td>2018-11-30</td>\n",
       "      <td>2023-11-05</td>\n",
       "    </tr>\n",
       "  </tbody>\n",
       "</table>\n",
       "</div>"
      ],
      "text/plain": [
       "  airline flightNumber origin destination  \\\n",
       "0   GoAir          425  Delhi   Hyderabad   \n",
       "1   GoAir          423  Delhi   Hyderabad   \n",
       "2   GoAir          423  Delhi   Hyderabad   \n",
       "3   GoAir          423  Delhi   Hyderabad   \n",
       "4   GoAir          423  Delhi   Hyderabad   \n",
       "\n",
       "                                          daysOfWeek scheduledDepartureTime  \\\n",
       "0  Sunday,Monday,Tuesday,Wednesday,Thursday,Frida...                  05:45   \n",
       "1                                           Saturday                  07:30   \n",
       "2                                             Friday                  07:30   \n",
       "3                                             Friday                  07:30   \n",
       "4  Sunday,Monday,Tuesday,Wednesday,Thursday,Saturday                  07:30   \n",
       "\n",
       "  scheduledArrivalTime   validFrom     validTo lastUpdated  \n",
       "0                  NaN  2018-10-28  2019-03-30  2023-11-05  \n",
       "1                  NaN  2018-10-28  2018-10-28  2023-11-05  \n",
       "2                  NaN  2018-11-03  2018-12-01  2023-11-05  \n",
       "3                  NaN  2019-02-02  2019-03-30  2023-11-05  \n",
       "4                  NaN  2018-10-29  2018-11-30  2023-11-05  "
      ]
     },
     "execution_count": 106,
     "metadata": {},
     "output_type": "execute_result"
    }
   ],
   "source": [
    "# drop timezone column as its the same as validTo\n",
    "df.drop([\"timezone\"], axis=1, inplace=True)\n",
    "df.head()"
   ]
  },
  {
   "cell_type": "code",
   "execution_count": 112,
   "metadata": {},
   "outputs": [
    {
     "name": "stdout",
     "output_type": "stream",
     "text": [
      "0\n"
     ]
    }
   ],
   "source": [
    "# print rows with more than 2 missing values\n",
    "print((df.isnull().sum(axis=1) >= 3).sum())"
   ]
  },
  {
   "cell_type": "code",
   "execution_count": 111,
   "metadata": {},
   "outputs": [],
   "source": [
    "# drop duplicate rows\n",
    "df.drop_duplicates(inplace=True)\n",
    "\n",
    "# drop rows with more than 2 missing values\n",
    "df.dropna(thresh=8, inplace=True)\n",
    "\n",
    "# reset index\n",
    "df.reset_index(drop=True, inplace=True)"
   ]
  },
  {
   "cell_type": "code",
   "execution_count": 113,
   "metadata": {},
   "outputs": [
    {
     "data": {
      "text/html": [
       "<div>\n",
       "<style scoped>\n",
       "    .dataframe tbody tr th:only-of-type {\n",
       "        vertical-align: middle;\n",
       "    }\n",
       "\n",
       "    .dataframe tbody tr th {\n",
       "        vertical-align: top;\n",
       "    }\n",
       "\n",
       "    .dataframe thead th {\n",
       "        text-align: right;\n",
       "    }\n",
       "</style>\n",
       "<table border=\"1\" class=\"dataframe\">\n",
       "  <thead>\n",
       "    <tr style=\"text-align: right;\">\n",
       "      <th></th>\n",
       "      <th>airline</th>\n",
       "      <th>flightNumber</th>\n",
       "      <th>origin</th>\n",
       "      <th>destination</th>\n",
       "      <th>daysOfWeek</th>\n",
       "      <th>scheduledDepartureTime</th>\n",
       "      <th>scheduledArrivalTime</th>\n",
       "      <th>validFrom</th>\n",
       "      <th>validTo</th>\n",
       "      <th>lastUpdated</th>\n",
       "    </tr>\n",
       "  </thead>\n",
       "  <tbody>\n",
       "    <tr>\n",
       "      <th>0</th>\n",
       "      <td>GoAir</td>\n",
       "      <td>425</td>\n",
       "      <td>Delhi</td>\n",
       "      <td>Hyderabad</td>\n",
       "      <td>daily</td>\n",
       "      <td>05:45</td>\n",
       "      <td>NaN</td>\n",
       "      <td>2018-10-28</td>\n",
       "      <td>2019-03-30</td>\n",
       "      <td>2023-11-05</td>\n",
       "    </tr>\n",
       "    <tr>\n",
       "      <th>1</th>\n",
       "      <td>GoAir</td>\n",
       "      <td>423</td>\n",
       "      <td>Delhi</td>\n",
       "      <td>Hyderabad</td>\n",
       "      <td>saturday</td>\n",
       "      <td>07:30</td>\n",
       "      <td>NaN</td>\n",
       "      <td>2018-10-28</td>\n",
       "      <td>2018-10-28</td>\n",
       "      <td>2023-11-05</td>\n",
       "    </tr>\n",
       "    <tr>\n",
       "      <th>2</th>\n",
       "      <td>GoAir</td>\n",
       "      <td>423</td>\n",
       "      <td>Delhi</td>\n",
       "      <td>Hyderabad</td>\n",
       "      <td>friday</td>\n",
       "      <td>07:30</td>\n",
       "      <td>NaN</td>\n",
       "      <td>2018-11-03</td>\n",
       "      <td>2018-12-01</td>\n",
       "      <td>2023-11-05</td>\n",
       "    </tr>\n",
       "    <tr>\n",
       "      <th>3</th>\n",
       "      <td>GoAir</td>\n",
       "      <td>423</td>\n",
       "      <td>Delhi</td>\n",
       "      <td>Hyderabad</td>\n",
       "      <td>friday</td>\n",
       "      <td>07:30</td>\n",
       "      <td>NaN</td>\n",
       "      <td>2019-02-02</td>\n",
       "      <td>2019-03-30</td>\n",
       "      <td>2023-11-05</td>\n",
       "    </tr>\n",
       "    <tr>\n",
       "      <th>4</th>\n",
       "      <td>GoAir</td>\n",
       "      <td>423</td>\n",
       "      <td>Delhi</td>\n",
       "      <td>Hyderabad</td>\n",
       "      <td>all except friday</td>\n",
       "      <td>07:30</td>\n",
       "      <td>NaN</td>\n",
       "      <td>2018-10-29</td>\n",
       "      <td>2018-11-30</td>\n",
       "      <td>2023-11-05</td>\n",
       "    </tr>\n",
       "  </tbody>\n",
       "</table>\n",
       "</div>"
      ],
      "text/plain": [
       "  airline flightNumber origin destination         daysOfWeek  \\\n",
       "0   GoAir          425  Delhi   Hyderabad              daily   \n",
       "1   GoAir          423  Delhi   Hyderabad           saturday   \n",
       "2   GoAir          423  Delhi   Hyderabad             friday   \n",
       "3   GoAir          423  Delhi   Hyderabad             friday   \n",
       "4   GoAir          423  Delhi   Hyderabad  all except friday   \n",
       "\n",
       "  scheduledDepartureTime scheduledArrivalTime   validFrom     validTo  \\\n",
       "0                  05:45                  NaN  2018-10-28  2019-03-30   \n",
       "1                  07:30                  NaN  2018-10-28  2018-10-28   \n",
       "2                  07:30                  NaN  2018-11-03  2018-12-01   \n",
       "3                  07:30                  NaN  2019-02-02  2019-03-30   \n",
       "4                  07:30                  NaN  2018-10-29  2018-11-30   \n",
       "\n",
       "  lastUpdated  \n",
       "0  2023-11-05  \n",
       "1  2023-11-05  \n",
       "2  2023-11-05  \n",
       "3  2023-11-05  \n",
       "4  2023-11-05  "
      ]
     },
     "execution_count": 113,
     "metadata": {},
     "output_type": "execute_result"
    }
   ],
   "source": [
    "# for the daysOfWeek column, if a column has all the days then replace it with 'Daily'\n",
    "df['daysOfWeek'] = df['daysOfWeek'].apply(lambda x: x.lower())\n",
    "df['daysOfWeek'] = df['daysOfWeek'].apply(lambda x: 'daily' if 'sunday' in x and 'monday' in x and 'tuesday' in x and 'wednesday' in x and 'thursday' in x and 'friday' in x and 'saturday' in x else x)\n",
    "\n",
    "# for the daysOfWeek column, if a column has 6 days then replace it with \"All except {day}\" day being the one not in the list\n",
    "df['daysOfWeek'] = df['daysOfWeek'].apply(lambda x: \"all except \" + [i for i in ['sunday', 'monday', 'tuesday', 'wednesday', 'thursday', 'friday', 'saturday'] if i not in x][0] if len(x.split(\",\")) == 6 else x)\n",
    "df.head()"
   ]
  },
  {
   "cell_type": "markdown",
   "metadata": {},
   "source": [
    "<div style=\"page-break-before: always;\"></div>"
   ]
  },
  {
   "cell_type": "markdown",
   "metadata": {},
   "source": [
    "### 3. Calculating Data Quality Metrics"
   ]
  },
  {
   "cell_type": "code",
   "execution_count": 74,
   "metadata": {},
   "outputs": [
    {
     "name": "stdout",
     "output_type": "stream",
     "text": [
      "<class 'pandas.core.frame.DataFrame'>\n",
      "RangeIndex: 88982 entries, 0 to 88981\n",
      "Data columns (total 11 columns):\n",
      " #   Column                  Non-Null Count  Dtype \n",
      "---  ------                  --------------  ----- \n",
      " 0   airline                 88307 non-null  object\n",
      " 1   flightNumber            88659 non-null  object\n",
      " 2   origin                  88482 non-null  object\n",
      " 3   destination             88435 non-null  object\n",
      " 4   daysOfWeek              88981 non-null  object\n",
      " 5   scheduledDepartureTime  58296 non-null  object\n",
      " 6   scheduledArrivalTime    58014 non-null  object\n",
      " 7   timezone                88982 non-null  object\n",
      " 8   validFrom               88982 non-null  object\n",
      " 9   validTo                 88982 non-null  object\n",
      " 10  lastUpdated             88982 non-null  object\n",
      "dtypes: object(11)\n",
      "memory usage: 7.5+ MB\n",
      "\n",
      "Summary of the data:\n",
      "Missing values:  airline                     675\n",
      "flightNumber                323\n",
      "origin                      500\n",
      "destination                 547\n",
      "daysOfWeek                    1\n",
      "scheduledDepartureTime    30686\n",
      "scheduledArrivalTime      30968\n",
      "timezone                      0\n",
      "validFrom                     0\n",
      "validTo                       0\n",
      "lastUpdated                   0\n",
      "dtype: int64\n",
      "Duplicates:  1084\n",
      "Unique values:  airline                     14\n",
      "flightNumber              4877\n",
      "origin                     112\n",
      "destination                112\n",
      "daysOfWeek                 126\n",
      "scheduledDepartureTime     288\n",
      "scheduledArrivalTime       288\n",
      "timezone                  1255\n",
      "validFrom                 1266\n",
      "validTo                   1255\n",
      "lastUpdated                  1\n",
      "dtype: int64\n"
     ]
    }
   ],
   "source": [
    "# assess the accuracy of the data\n",
    "df.info()\n",
    "missing = df.isnull().sum()\n",
    "dups = df.duplicated().sum()\n",
    "uns = df.nunique()\n",
    "\n",
    "print(\"\\nSummary of the data:\")\n",
    "print(\"Missing values: \", missing)\n",
    "print(\"Duplicates: \", dups)\n",
    "print(\"Unique values: \", uns)"
   ]
  },
  {
   "cell_type": "markdown",
   "metadata": {},
   "source": [
    "#### 3.1. Dimension: Accuracy"
   ]
  },
  {
   "cell_type": "code",
   "execution_count": 75,
   "metadata": {},
   "outputs": [],
   "source": [
    "def check_accuracy(df):\n",
    "    valid_airlines = ['GoAir', 'Air India', 'AirAsia India', 'Jet Airways','Alliance Air (India)', 'Jetlite', 'Vistara', 'IndiGo', 'TruJet', 'SpiceJet', 'FlyBig', 'Star Air', 'Akasa Air', 'IndiaOne Air']\n",
    "    valid_origins = ['Delhi', 'Lucknow', 'Kochi', 'Ahmedabad', 'Jaipur', 'Bengaluru',\n",
    "       'Guwahati', 'Goa', 'Kolkata', 'Hyderabad', 'Nagpur', 'Bagdogra',\n",
    "       'MIHAN', 'Mumbai', 'Leh', 'Patna', 'Ranchi', 'Pune', 'Jammu',\n",
    "       'Srinagar', 'Chennai', 'Bhubaneswar', 'Port Blair', 'Chandigarh',\n",
    "       'Visakhapatnam', 'Vijayawada', 'Tirupati', 'Varanasi',\n",
    "       'Aurangabad', 'Rajkot', 'Amritsar', 'Imphal', 'Jodhpur', 'Indore',\n",
    "       'Vadodara', 'Raipur', 'Udaipur', 'Surat', 'Bhopal', 'Gaya',\n",
    "       'Khajuraho', 'Thiruvananthapuram', 'Mangalore', 'Calicut', 'Hubli',\n",
    "       'Coimbatore', 'Jamnagar', 'Nanded', 'Aizwal', 'Dibrugarh',\n",
    "       'Madurai', 'Agra', 'Dimapur', 'Silchar', 'Agartala', 'Nasik',\n",
    "       'Dehradun', 'Allahabad', 'Jorhat', 'Tiruchirappalli',\n",
    "       'Kolhapur', 'Shirdi Airport', 'Kullu', 'Gorakhpur', 'Ludhiana',\n",
    "       'Shimla', 'Gwalior', 'Pantnagar', 'Bikaner', 'Bathinda',\n",
    "       'Jabalpur', 'Pathankot', 'Kangra', 'Agatti', 'Diu', 'Bhavnagar',\n",
    "       'Kandla', 'Belgaum', 'Lilabari', 'Tezpur', 'Passighat', 'Shillong',\n",
    "       'Rajahmundry', 'Tuticorin', 'Vidyanagar', 'Jalgaon', 'Keshod',\n",
    "       'Porbandar', 'Salem', 'Mysore', 'Pondicherry', 'Adampur',\n",
    "       'Jaisalmer', 'Kanpur', 'Kishangarh', 'Pakyong', 'Tezu',\n",
    "       'Kannur International Airport', 'Bhuj', 'Kadapa', 'Jharsuguda',\n",
    "       'Pithoragarh', 'Kalaburgi (Gulbarga)', 'Bidar', 'Thoise', 'Rupsi',\n",
    "       'Durgapur', 'Darbhanga', 'Bilaspur', 'Mundra', 'Hindon Airport',\n",
    "       'Cooch-Behar']\n",
    "    valid_destinations = ['Hyderabad', 'Delhi', 'Varanasi', 'Bhubaneswar', 'Nagpur',\n",
    "       'Bagdogra', 'MIHAN', 'Lucknow', 'Kochi', 'Mumbai', 'Leh', 'Patna',\n",
    "       'Port Blair', 'Kannur International Airport', 'Ahmedabad',\n",
    "       'Jaipur', 'Bengaluru', 'Ranchi', 'Chandigarh', 'Pune', 'Guwahati',\n",
    "       'Chennai', 'Jammu', 'Goa', 'Kolkata', 'Srinagar',\n",
    "       'Thiruvananthapuram', 'Mangalore', 'Calicut', 'Aurangabad',\n",
    "       'Madurai', 'Rajkot', 'Gaya', 'Dimapur', 'Visakhapatnam',\n",
    "       'Amritsar', 'Imphal', 'Agra', 'Jodhpur', 'Vijayawada', 'Indore',\n",
    "       'Vadodara', 'Silchar', 'Raipur', 'Udaipur', 'Tirupati', 'Belgaum',\n",
    "       'Hubli', 'Aizwal', 'Surat', 'Coimbatore', 'Khajuraho', 'Bhopal',\n",
    "       'Dibrugarh', 'Agartala', 'Nanded', 'Jamnagar', 'Nasik',\n",
    "       'Dehradun', 'Bhuj', 'Allahabad', 'Jorhat', 'Tiruchirappalli',\n",
    "       'Thoise', 'Shirdi Airport', 'Kandla', 'Kullu', 'Passighat',\n",
    "       'Shillong', 'Kolhapur', 'Rajahmundry', 'Diu', 'Gorakhpur',\n",
    "       'Ludhiana', 'Shimla', 'Gwalior', 'Pantnagar', 'Agatti', 'Lilabari',\n",
    "       'Tezpur', 'Bikaner', 'Bathinda', 'Jabalpur', 'Pathankot',\n",
    "       'Bhavnagar', 'Kangra', 'Tuticorin', 'Kadapa', 'Salem', 'Jaisalmer',\n",
    "       'Vidyanagar', 'Adampur', 'Pondicherry', 'Kanpur', 'Kishangarh',\n",
    "       'Pakyong', 'Jalgaon', 'Mundra', 'Tezu', 'Jharsuguda', 'Mysore',\n",
    "       'Darbhanga', 'Pithoragarh', 'Kalaburgi (Gulbarga)', 'Keshod',\n",
    "       'Bidar', 'Hindon Airport', 'Rupsi', 'Bilaspur', 'Cooch-Behar',\n",
    "       'Porbandar', 'Durgapur']\n",
    "    accuracy_checks = (\n",
    "        df[\"airline\"].isin(valid_airlines)\n",
    "        & df[\"origin\"].isin(valid_origins)\n",
    "        & df[\"destination\"].isin(valid_destinations)\n",
    "    )\n",
    "    return accuracy_checks"
   ]
  },
  {
   "cell_type": "code",
   "execution_count": 76,
   "metadata": {},
   "outputs": [
    {
     "name": "stdout",
     "output_type": "stream",
     "text": [
      "Accuracy Percentage: 98.10%\n"
     ]
    }
   ],
   "source": [
    "# Calculate accuracy percentage\n",
    "df[\"accuracy\"] = check_accuracy(df)\n",
    "accuracy_percentage = (df[\"accuracy\"].sum() / len(df)) * 100\n",
    "print(f\"Accuracy Percentage: {accuracy_percentage:.2f}%\")"
   ]
  },
  {
   "cell_type": "markdown",
   "metadata": {},
   "source": [
    "#### 3.2. Dimension: Completeness"
   ]
  },
  {
   "cell_type": "code",
   "execution_count": 77,
   "metadata": {},
   "outputs": [
    {
     "name": "stdout",
     "output_type": "stream",
     "text": [
      "Completeness Percentage: 30.57%\n"
     ]
    }
   ],
   "source": [
    "def check_completeness(df):\n",
    "    completeness_checks = ~df[['flightNumber', 'origin', 'destination', 'daysOfWeek',\n",
    "                               'scheduledDepartureTime', 'scheduledArrivalTime',\n",
    "                               'timezone', 'validFrom', 'validTo', 'lastUpdated']].isnull().any(axis=1)\n",
    "    return completeness_checks\n",
    "\n",
    "df['completeness'] = check_completeness(df)\n",
    "completeness_percentage = (df[\"completeness\"].sum() / len(df)) * 100\n",
    "print(f\"Completeness Percentage: {completeness_percentage:.2f}%\")"
   ]
  },
  {
   "cell_type": "markdown",
   "metadata": {},
   "source": [
    "#### 3.3. Dimension: Consistency"
   ]
  },
  {
   "cell_type": "code",
   "execution_count": 78,
   "metadata": {},
   "outputs": [
    {
     "name": "stdout",
     "output_type": "stream",
     "text": [
      "Consistency Percentage: 100.00%\n"
     ]
    }
   ],
   "source": [
    "def check_consistency(df):\n",
    "    # Check consistency in the timezone column\n",
    "    consistency_checks = pd.to_datetime(df['timezone'], errors='coerce').notna()\n",
    "\n",
    "    # Check consistency in the daysOfWeek column\n",
    "    days_of_week_validity = ['monday', 'tuesday', 'wednesday', 'thursday', 'friday', 'saturday', 'sunday']\n",
    "    consistency_checks &= df['daysOfWeek'].apply(lambda x: all(day.lower() in days_of_week_validity for day in str(x).split(',')))\n",
    "    return consistency_checks\n",
    "\n",
    "df[\"consistency\"] = check_consistency(df)\n",
    "consistency_percentage = (df[\"consistency\"].sum() / len(df)) * 100\n",
    "print(f\"Consistency Percentage: {consistency_percentage:.2f}%\")"
   ]
  },
  {
   "cell_type": "markdown",
   "metadata": {},
   "source": [
    "#### 3.4. Dimension: Timeliness"
   ]
  },
  {
   "cell_type": "code",
   "execution_count": 79,
   "metadata": {},
   "outputs": [
    {
     "name": "stdout",
     "output_type": "stream",
     "text": [
      "Timeliness Percentage: 99.99887617720438%\n"
     ]
    }
   ],
   "source": [
    "def check_timeliness(df):\n",
    "    # Check if validFrom and validTo dates are within a reasonable time frame\n",
    "    timeliness_checks = (\n",
    "        pd.to_datetime(df[\"validFrom\"], errors=\"coerce\")\n",
    "        <= pd.to_datetime(df[\"validTo\"], errors=\"coerce\")\n",
    "    ) & (pd.to_datetime(df[\"validTo\"], errors=\"coerce\") <= datetime.now())\n",
    "    # Check if lastUpdated date is recent\n",
    "    timeliness_checks &= (\n",
    "        pd.to_datetime(df[\"lastUpdated\"], errors=\"coerce\") <= datetime.now()\n",
    "    )\n",
    "    return timeliness_checks\n",
    "\n",
    "df[\"timeliness\"] = check_timeliness(df)\n",
    "Timeliness_percentage = (df[\"timeliness\"].sum() / len(df)) * 100\n",
    "print(f\"Timeliness Percentage: {Timeliness_percentage}%\")"
   ]
  },
  {
   "cell_type": "markdown",
   "metadata": {},
   "source": [
    "#### 3.5. Dimension: Uniqueness"
   ]
  },
  {
   "cell_type": "code",
   "execution_count": 80,
   "metadata": {},
   "outputs": [
    {
     "name": "stdout",
     "output_type": "stream",
     "text": [
      "Uniqueness Percentage: 91.89%\n"
     ]
    }
   ],
   "source": [
    "def check_reliability(df):\n",
    "    # Check reliability by examining consistency of data for the same flight\n",
    "    reliability_checks = df.duplicated(\n",
    "        subset=[\"flightNumber\", \"origin\", \"destination\"], keep=False\n",
    "    )\n",
    "    # Calculate the percentage of reliability\n",
    "    unique_percentage = (reliability_checks.sum() / len(df)) * 100\n",
    "    return unique_percentage\n",
    "\n",
    "# Assuming df is your DataFrame\n",
    "unique_percentage = check_reliability(df)\n",
    "print(f\"Uniqueness Percentage: {unique_percentage:.2f}%\")"
   ]
  },
  {
   "cell_type": "markdown",
   "metadata": {},
   "source": [
    "#### 3.6. Dimension: Validity"
   ]
  },
  {
   "cell_type": "code",
   "execution_count": 81,
   "metadata": {},
   "outputs": [],
   "source": [
    "def check_validity(df):\n",
    "    # Check validity of scheduledDepartureTime and scheduledArrivalTime\n",
    "    time_format = '%H:%M'\n",
    "    validity_checks = (\n",
    "        pd.to_datetime(df['scheduledDepartureTime'], format=time_format, errors='coerce').notna() &\n",
    "        pd.to_datetime(df['scheduledArrivalTime'], format=time_format, errors='coerce').notna()\n",
    "    )\n",
    "\n",
    "    # Check validity of daysOfWeek\n",
    "    days_of_week_validity = ['monday', 'tuesday', 'wednesday', 'thursday', 'friday', 'saturday', 'sunday']\n",
    "    validity_checks &= df['daysOfWeek'].apply(lambda x: all(day.lower() in days_of_week_validity for day in str(x).split(',')))\n",
    "\n",
    "    return validity_checks"
   ]
  },
  {
   "cell_type": "code",
   "execution_count": 82,
   "metadata": {},
   "outputs": [
    {
     "name": "stdout",
     "output_type": "stream",
     "text": [
      "Validity Percentage: 30.71%\n"
     ]
    }
   ],
   "source": [
    "df[\"validity\"] = check_validity(df)\n",
    "Validity_percentage = (df[\"validity\"].sum() / len(df)) * 100\n",
    "print(f\"Validity Percentage: {Validity_percentage:.2f}%\")"
   ]
  },
  {
   "cell_type": "markdown",
   "metadata": {},
   "source": [
    "<div style=\"page-break-before: always;\"></div>"
   ]
  },
  {
   "cell_type": "markdown",
   "metadata": {},
   "source": [
    "#### 2.7. Data Quality Metrics for the Dataset"
   ]
  },
  {
   "cell_type": "code",
   "execution_count": 115,
   "metadata": {},
   "outputs": [
    {
     "name": "stdout",
     "output_type": "stream",
     "text": [
      "Accuracy Percentage: 98.10%\n",
      "Completness Percentage: 30.57%\n",
      "Consistency Percentage: 100.00%\n",
      "Timeliness Percentage: 100.00%\n",
      "Uniqueness Percentage: 91.89%\n",
      "Validity Percentage: 30.71%\n"
     ]
    }
   ],
   "source": [
    "print(f\"Accuracy Percentage: {accuracy_percentage:.2f}%\")\n",
    "print(f\"Completness Percentage: {completeness_percentage:.2f}%\")\n",
    "print(f\"Consistency Percentage: {consistency_percentage:.2f}%\")\n",
    "print(f\"Timeliness Percentage: {Timeliness_percentage:.2f}%\")\n",
    "print(f\"Uniqueness Percentage: {unique_percentage:.2f}%\")\n",
    "print(f\"Validity Percentage: {Validity_percentage:.2f}%\")"
   ]
  },
  {
   "cell_type": "markdown",
   "metadata": {},
   "source": [
    "<style type=\"text/css\">\n",
    ".tg  {border-collapse:collapse;border-spacing:0;width:100%}\n",
    ".tg td{border-color:black;border-style:solid;border-width:1px;font-family:Arial, sans-serif;font-size:16px;\n",
    "  overflow:hidden;padding:10px 10px;word-break:normal;}\n",
    ".tg th{border-color:black;border-style:solid;border-width:1px;font-family:Arial, sans-serif;font-size:16px;\n",
    "  font-weight:normal;overflow:hidden;padding:10px 10px;word-break:normal;}\n",
    ".tg .tg-0pky{border-color:inherit;text-align:left;vertical-align:top;}\n",
    ".col1 { width: 20%;}\n",
    ".col2 { width: 80%;}\n",
    "</style>\n",
    "<table class=\"tg\">\n",
    "<tbody>\n",
    "  <tr>\n",
    "    <td class=\"tg-0pky col1\">CONCLUSION</td>\n",
    "    <td class=\"tg-0pky col2\">In this experiment we learned about the 6 core dimensions of data quality and calculated the data quality metrics for each data quality dimension for the dataset. We also identified and handled inconsistent or erroneous data.</td>\n",
    "    </td>\n",
    "  </tr>\n",
    "</tbody>\n",
    "</table> "
   ]
  }
 ],
 "metadata": {
  "kernelspec": {
   "display_name": "venv",
   "language": "python",
   "name": "python3"
  },
  "language_info": {
   "codemirror_mode": {
    "name": "ipython",
    "version": 3
   },
   "file_extension": ".py",
   "mimetype": "text/x-python",
   "name": "python",
   "nbconvert_exporter": "python",
   "pygments_lexer": "ipython3",
   "version": "3.12.0"
  }
 },
 "nbformat": 4,
 "nbformat_minor": 2
}
